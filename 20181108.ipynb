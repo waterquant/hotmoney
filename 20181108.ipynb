{
 "cells": [
  {
   "cell_type": "markdown",
   "metadata": {},
   "source": [
    "## 十一连板续命成功，但绝不可忘乎所以！ "
   ]
  },
  {
   "cell_type": "markdown",
   "metadata": {},
   "source": [
    "* **让你赚钱的不是一只股票，而是一种环境。个股就算有失误，但只要环境还在，你一定还能把钱赚回来**"
   ]
  },
  {
   "cell_type": "markdown",
   "metadata": {},
   "source": [
    "* 而这一次，之所以出力为恒立实业续一秒，就是为了保持或者说创造这种良好的环境。正式因为恒立打出来的高度，所以市场才有这么多的连板。"
   ]
  },
  {
   "cell_type": "markdown",
   "metadata": {},
   "source": [
    "* 虽然恒立实业代表的是低价壳股，但已经不只是自身了，而是高度担当。而单纯低价壳股路线，实际上今天已经到了尽头。虽然还有群兴玩具坐镇，但实际上势力已经衰弱。"
   ]
  },
  {
   "cell_type": "markdown",
   "metadata": {},
   "source": [
    "* 你会发现这些股票真的上车都属于加速期了，看起来已经不是很安全。如果明天九有放量还好，否则继续缩量加速，那么一旦有风吹草动，就可能大面一碗。\n",
    "\n",
    "     相对而言，反而上海三毛是一股清流。"
   ]
  },
  {
   "cell_type": "markdown",
   "metadata": {},
   "source": [
    "* **明天千万不要开一字，慢慢地换手，咱们还是好朋友。**"
   ]
  },
  {
   "cell_type": "markdown",
   "metadata": {},
   "source": [
    "* 总结\n",
    "\n",
    "     第一，恒立实业仍然是短线气氛的风向标，只要恒立不出现问题，短线整体的赚钱效应依然存在。\n",
    "\n",
    "     第二，虽然创投大幕已经拉开，且后续会继续走强，但是创投多数类股票已经进入了加速期，买入位置并不是很好。大家酌情选择换手良好的个股，且控制仓位。\n",
    "\n",
    "     第三，证券调整的迹象越发明显，也显示这波行情的集体亏钱效应越来越近了。大家可以适当止盈，同时留足仓位，低位记得买回来。\n",
    "\n",
    "    综上所述，虽然局势看起来还是比较光明，但是是时候要谨慎起来了。搞不好为别人而接盘。尤其是明天是周五，建议控制仓位，小心参与，多看少动。等待创投龙头的脱颖而出。"
   ]
  },
  {
   "cell_type": "code",
   "execution_count": null,
   "metadata": {},
   "outputs": [],
   "source": []
  }
 ],
 "metadata": {
  "kernelspec": {
   "display_name": "Python 3",
   "language": "python",
   "name": "python3"
  },
  "language_info": {
   "codemirror_mode": {
    "name": "ipython",
    "version": 3
   },
   "file_extension": ".py",
   "mimetype": "text/x-python",
   "name": "python",
   "nbconvert_exporter": "python",
   "pygments_lexer": "ipython3",
   "version": "3.6.5"
  }
 },
 "nbformat": 4,
 "nbformat_minor": 2
}
