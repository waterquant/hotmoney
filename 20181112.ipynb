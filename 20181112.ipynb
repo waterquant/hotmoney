{
 "cells": [
  {
   "cell_type": "markdown",
   "metadata": {},
   "source": [
    "## 不知道买什么，干脆加仓恒立吧！"
   ]
  },
  {
   "cell_type": "markdown",
   "metadata": {},
   "source": [
    "* 大盘在多方利好下，震荡向上，护盘主力是券商"
   ]
  },
  {
   "cell_type": "markdown",
   "metadata": {},
   "source": [
    "* 但是，大盘很难有所作为，因为银行根本拉不动。小银行红了一圈，可是最重要的四大行加上招行，只要一拉升，资金必然跑路"
   ]
  },
  {
   "cell_type": "markdown",
   "metadata": {},
   "source": [
    "* 而创业板仗着目前中小企业的利好，进行科创板正式开通前的最后一波冲锋"
   ]
  },
  {
   "cell_type": "markdown",
   "metadata": {},
   "source": [
    "* **思前想后，觉得恒立实业最安全。所以，早盘看着资金这么踊跃，干脆加仓五万股。**\n",
    "\n",
    "除了恒立实业，其他的股票真的不好买"
   ]
  },
  {
   "cell_type": "markdown",
   "metadata": {},
   "source": [
    "* 创投"
   ]
  },
  {
   "cell_type": "markdown",
   "metadata": {},
   "source": [
    "* 现在的情况是，前排全部一字板顶死；\n",
    "\n",
    "\n",
    "如果今天三毛或者九有，造一个低开高走封板，形成普遍的赚钱效应那还好。\n",
    "\n",
    "\n",
    " 但是，并没有。为什么呢？因为资金不愿意。比如德美化工，本来有机会，但是资金不愿意齐心协力。\n",
    " "
   ]
  },
  {
   "cell_type": "markdown",
   "metadata": {},
   "source": [
    "* 当资金不愿意齐心协力做换手板和大长腿的时候，那就说明了一件事情。市场的主力资金越来越倾向于等创投第二波了，愿意主动高位接盘的越来越少了。\n",
    "\n",
    "\n",
    "\n",
    "      所以，今天的盘面其实告诉了我们一件事情，创投的动态平衡已经到了一个脆弱的边缘。这个时候，只要锁仓的资金不愿意锁仓，来一波出货，目前看起来很牛逼的连板股票，我相信绝大多数要吃大面。\n",
    "\n",
    "\n",
    "\n",
    "     所以我说，很难买，不如买恒立。恒立如果崩了还有第二波，创投这些一字板和秒板崩了，真不知道哪些个股会有第二波。"
   ]
  },
  {
   "cell_type": "markdown",
   "metadata": {},
   "source": [
    "* 总结"
   ]
  },
  {
   "cell_type": "markdown",
   "metadata": {},
   "source": [
    "* **换手板和大长腿的消失意味着主力资金逐渐放弃了行动。目前市场的格局是缩量加速，平衡点是市场的锁仓很多，但愿意接盘的变少。**"
   ]
  },
  {
   "cell_type": "markdown",
   "metadata": {},
   "source": [
    "* **虽然只要锁仓的愿意继续锁仓，当然还能连板。但是，锁仓的人一定会看接盘的资金与心态。而往往，平衡打破就在一瞬间。所以，同志们，咋们还是准备做创投的第二波吧。**"
   ]
  },
  {
   "cell_type": "code",
   "execution_count": null,
   "metadata": {},
   "outputs": [],
   "source": []
  }
 ],
 "metadata": {
  "kernelspec": {
   "display_name": "Python 3",
   "language": "python",
   "name": "python3"
  },
  "language_info": {
   "codemirror_mode": {
    "name": "ipython",
    "version": 3
   },
   "file_extension": ".py",
   "mimetype": "text/x-python",
   "name": "python",
   "nbconvert_exporter": "python",
   "pygments_lexer": "ipython3",
   "version": "3.6.5"
  }
 },
 "nbformat": 4,
 "nbformat_minor": 2
}
